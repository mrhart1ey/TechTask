{
 "cells": [
  {
   "cell_type": "markdown",
   "metadata": {},
   "source": [
    "# Tech task"
   ]
  },
  {
   "cell_type": "raw",
   "metadata": {},
   "source": [
    "In this tech task I will demonstrate a function that takes a natural number, n, and returns a list of prime numbers in the range [0,n).\n",
    "\n",
    "Definitions:\n",
    "Prime number - A prime number is a number that is only divisible by itself or one.\n",
    "Natural number - An integer that is zero or greater.\n",
    "[ - The endpoint should be included in an interval\n",
    ") - The endpoint should not be included in an interval\n",
    "\n",
    "For the rest of the document I will refer to the range as [0,n). \n",
    "\n",
    "The algorithm that is used is called Sieve of Eratosthenes (https://en.wikipedia.org/wiki/Sieve_of_Eratosthenes). \n",
    "The algorithm works by process of elimination. The algorithm maintains a vector that maps an index to a boolean value indicating if the number is prime or not. Initially all the numbers in the vector are marked as prime. The algorithm will then iterate through a number x in the range [2,sqrt(n)). If x is prime it will then go through x*x, x*x + x, x*x + 2x, ..., x*x + (c-1)x marking them all as not prime until x*x + cx is more than n. After all the xs have been iterated through the vector will contain a complete and correct mapping of a number to if it is prime or not. \n",
    "\n",
    "A Sieve of Eratosthenes relies on the fact that a positive integer is either a prime or composed of primes, so when the algorithm is iterating through the sequence x*x, x*x + x, x*x + 2x, ..., x*x + (c-1)x it can be sure that they are all not prime as a factor of x can be taken out showing that it is composed of one or more primes. \n",
    "To prove that the algorithm does not falsely identify a number as a prime assume for contraction that it does, so it identified a composite y as a prime, as y is composite it can be split into prime factors, these prime factors are obviously less than y, so going from the algorithm it will mark the number as not prime, leading to a contradiction.  "
   ]
  },
  {
   "cell_type": "code",
   "execution_count": null,
   "metadata": {},
   "outputs": [],
   "source": [
    "import techTask as task"
   ]
  },
  {
   "cell_type": "code",
   "execution_count": null,
   "metadata": {},
   "outputs": [],
   "source": [
    "task.primesUpTo(101)"
   ]
  },
  {
   "cell_type": "raw",
   "metadata": {},
   "source": [
    "Here is the performance of the algorithm against the naive approach of just iterating through all the numbers in the range and seeing if it is prime.\n",
    "The benchmark times how long it takes to find primes in the range 0 to \"Numbers searched\""
   ]
  },
  {
   "cell_type": "code",
   "execution_count": null,
   "metadata": {},
   "outputs": [],
   "source": [
    "import naivePrimeFinder as naivePrimeFinder\n",
    "from time import time\n",
    "from tabulate import tabulate\n",
    "\n",
    "def benchmark(functionToBenchmark):\n",
    "    lowerBound = 10\n",
    "    boundIncreaseFactor = 10\n",
    "    upperBound = 1000000\n",
    "\n",
    "    results = []\n",
    "\n",
    "    currentBound  = lowerBound\n",
    "\n",
    "    while currentBound <= upperBound:\n",
    "        start = time()\n",
    "\n",
    "        functionToBenchmark(currentBound)\n",
    "\n",
    "        timeTaken = time() - start\n",
    "\n",
    "        results.append([currentBound, timeTaken]);\n",
    "\n",
    "        currentBound = currentBound * boundIncreaseFactor\n",
    "\n",
    "    return results\n",
    "\n",
    "headers = [\"Numbers searched\", \"Time(s)\"]\n",
    "tableFormat = \"grid\""
   ]
  },
  {
   "cell_type": "raw",
   "metadata": {},
   "source": [
    "Sieve of Eratosthenes results"
   ]
  },
  {
   "cell_type": "code",
   "execution_count": null,
   "metadata": {},
   "outputs": [],
   "source": [
    "print(tabulate(benchmark(task.primesUpTo), headers = headers,\n",
    "    tablefmt=tableFormat))"
   ]
  },
  {
   "cell_type": "raw",
   "metadata": {},
   "source": [
    "Naive results"
   ]
  },
  {
   "cell_type": "code",
   "execution_count": null,
   "metadata": {},
   "outputs": [],
   "source": [
    "print(tabulate(benchmark(naivePrimeFinder.primesUpTo), headers = headers,\n",
    "    tablefmt=tableFormat))"
   ]
  },
  {
   "cell_type": "code",
   "execution_count": null,
   "metadata": {},
   "outputs": [],
   "source": []
  }
 ],
 "metadata": {
  "kernelspec": {
   "display_name": "Python 3",
   "language": "python",
   "name": "python3"
  },
  "language_info": {
   "codemirror_mode": {
    "name": "ipython",
    "version": 3
   },
   "file_extension": ".py",
   "mimetype": "text/x-python",
   "name": "python",
   "nbconvert_exporter": "python",
   "pygments_lexer": "ipython3",
   "version": "3.8.5"
  }
 },
 "nbformat": 4,
 "nbformat_minor": 4
}
